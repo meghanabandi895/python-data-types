{
 "cells": [
  {
   "cell_type": "markdown",
   "id": "325d5eeb",
   "metadata": {},
   "source": [
    "### Data Types in Python"
   ]
  },
  {
   "cell_type": "markdown",
   "id": "80e47c53",
   "metadata": {},
   "source": [
    "Data types are the classification or categorization of data items. It represents the kind of value that tells what operations can be performed on a particular data."
   ]
  },
  {
   "cell_type": "markdown",
   "id": "28b9345d",
   "metadata": {},
   "source": [
    "#### Basic Data types in python"
   ]
  },
  {
   "cell_type": "raw",
   "id": "eb5ec904",
   "metadata": {},
   "source": [
    "Int\n",
    "Float\n",
    "Boolean\n",
    "Complex"
   ]
  },
  {
   "cell_type": "markdown",
   "id": "62764fcc",
   "metadata": {},
   "source": [
    "##### Int"
   ]
  },
  {
   "cell_type": "markdown",
   "id": "98831177",
   "metadata": {},
   "source": [
    "Integers are positive or negative whole numbers without a decimal point"
   ]
  },
  {
   "cell_type": "code",
   "execution_count": 3,
   "id": "c02240a6",
   "metadata": {},
   "outputs": [
    {
     "name": "stdout",
     "output_type": "stream",
     "text": [
      "(-9, 9)\n"
     ]
    }
   ],
   "source": [
    "int = -9,9\n",
    "print(int)"
   ]
  },
  {
   "cell_type": "markdown",
   "id": "39534342",
   "metadata": {},
   "source": [
    "##### Float"
   ]
  },
  {
   "cell_type": "markdown",
   "id": "52fa50f5",
   "metadata": {},
   "source": [
    "It will add a decimal point to the integer or Boolean value and will turn it into a float."
   ]
  },
  {
   "cell_type": "code",
   "execution_count": 5,
   "id": "02cb76c9",
   "metadata": {},
   "outputs": [
    {
     "name": "stdout",
     "output_type": "stream",
     "text": [
      "7.69\n"
     ]
    }
   ],
   "source": [
    "float = 7.69\n",
    "print(float)"
   ]
  },
  {
   "cell_type": "markdown",
   "id": "2e35c7e0",
   "metadata": {},
   "source": [
    "##### Boolean"
   ]
  },
  {
   "cell_type": "raw",
   "id": "ff276209",
   "metadata": {},
   "source": [
    "Not all variables should assume numeric values.\n",
    "This means a True or False value, corresponding to the machine’s logic of understanding 1s and 0s, on or off, right or wrong."
   ]
  },
  {
   "cell_type": "code",
   "execution_count": 6,
   "id": "274d271d",
   "metadata": {},
   "outputs": [
    {
     "name": "stdout",
     "output_type": "stream",
     "text": [
      "True\n"
     ]
    }
   ],
   "source": [
    "x= 0<5\n",
    "print(x)"
   ]
  },
  {
   "cell_type": "code",
   "execution_count": 7,
   "id": "bc2e58f9",
   "metadata": {},
   "outputs": [
    {
     "name": "stdout",
     "output_type": "stream",
     "text": [
      "False\n"
     ]
    }
   ],
   "source": [
    "y = 9>10\n",
    "print(y)"
   ]
  },
  {
   "cell_type": "markdown",
   "id": "0cba26dc",
   "metadata": {},
   "source": [
    "##### Complex"
   ]
  },
  {
   "cell_type": "markdown",
   "id": "ec770093",
   "metadata": {},
   "source": [
    "To represent numbers with both real and imaginary parts"
   ]
  },
  {
   "cell_type": "code",
   "execution_count": 9,
   "id": "710c8e00",
   "metadata": {},
   "outputs": [
    {
     "name": "stdout",
     "output_type": "stream",
     "text": [
      "(5+9j)\n"
     ]
    }
   ],
   "source": [
    "x = 5+9j\n",
    "print(x)"
   ]
  },
  {
   "cell_type": "markdown",
   "id": "58ed8a29",
   "metadata": {},
   "source": [
    "#### Advanced Data types in python"
   ]
  },
  {
   "cell_type": "raw",
   "id": "00d9c006",
   "metadata": {},
   "source": [
    "list\n",
    "string\n",
    "tuple\n",
    "dictionary"
   ]
  },
  {
   "cell_type": "markdown",
   "id": "3daaaece",
   "metadata": {},
   "source": [
    "##### list"
   ]
  },
  {
   "cell_type": "raw",
   "id": "a8f3bc2d",
   "metadata": {},
   "source": [
    "A list in Python is an ordered collection of items.\n",
    "Items can be of any data type and can be duplicated.\n",
    "Lists are mutable, meaning the elements can be changed after the list has been created."
   ]
  },
  {
   "cell_type": "code",
   "execution_count": 10,
   "id": "4350292a",
   "metadata": {},
   "outputs": [
    {
     "name": "stdout",
     "output_type": "stream",
     "text": [
      "[12, 13, 14]\n"
     ]
    }
   ],
   "source": [
    "age = [12,13,14]\n",
    "print(age)"
   ]
  },
  {
   "cell_type": "markdown",
   "id": "863d718d",
   "metadata": {},
   "source": [
    "##### String"
   ]
  },
  {
   "cell_type": "raw",
   "id": "88fc38ad",
   "metadata": {},
   "source": [
    "A string is a sequence of characters enclosed in either single quotes ('') or double quotes (“”).\n",
    "strings are used for representing textual data."
   ]
  },
  {
   "cell_type": "code",
   "execution_count": 11,
   "id": "02fbffe9",
   "metadata": {},
   "outputs": [
    {
     "name": "stdout",
     "output_type": "stream",
     "text": [
      "Meghana\n"
     ]
    }
   ],
   "source": [
    "str = \"Meghana\"\n",
    "print(str)"
   ]
  },
  {
   "cell_type": "markdown",
   "id": "ec01ff07",
   "metadata": {},
   "source": [
    "##### Tuple"
   ]
  },
  {
   "cell_type": "raw",
   "id": "e740b633",
   "metadata": {},
   "source": [
    "A tuple represents a sequence of any objects separated by commas and enclosed in parentheses.\n",
    "A tuple is an immutable object, which means it cannot be changed, and we use it to represent fixed collections of items. "
   ]
  },
  {
   "cell_type": "code",
   "execution_count": 12,
   "id": "6feb843f",
   "metadata": {},
   "outputs": [
    {
     "name": "stdout",
     "output_type": "stream",
     "text": [
      "(1, 2, 3)\n"
     ]
    }
   ],
   "source": [
    "x = (1,2,3)\n",
    "print(x)"
   ]
  },
  {
   "cell_type": "markdown",
   "id": "617b86bf",
   "metadata": {},
   "source": [
    "##### Set"
   ]
  },
  {
   "cell_type": "raw",
   "id": "eda19b2a",
   "metadata": {},
   "source": [
    "Set is a data type in python used to store several items in a single variable.\n",
    "It is a collection that is written with curly brackets and is both unindexed and unordered."
   ]
  },
  {
   "cell_type": "code",
   "execution_count": 13,
   "id": "fb77763a",
   "metadata": {},
   "outputs": [
    {
     "name": "stdout",
     "output_type": "stream",
     "text": [
      "{1, 2, 3, 4, 5, 6, 7, 8, 9}\n"
     ]
    }
   ],
   "source": [
    "x = {1,2,3,4,5,6,7,8,9,}\n",
    "print(x)"
   ]
  },
  {
   "cell_type": "markdown",
   "id": "6caa13fd",
   "metadata": {},
   "source": [
    "##### Dictionary"
   ]
  },
  {
   "cell_type": "markdown",
   "id": "93bde813",
   "metadata": {},
   "source": [
    "It is a data structure that stores the value in key: value pairs"
   ]
  },
  {
   "cell_type": "code",
   "execution_count": 16,
   "id": "32672c94",
   "metadata": {},
   "outputs": [
    {
     "name": "stdout",
     "output_type": "stream",
     "text": [
      "{1: 'Python', 2: 'Data science', 3: 'Data Analyst'}\n"
     ]
    }
   ],
   "source": [
    "dict= {1:\"Python\", 2:\"Data science\", 3:\"Data Analyst\"}\n",
    "print(dict)"
   ]
  },
  {
   "cell_type": "markdown",
   "id": "c271c570",
   "metadata": {},
   "source": [
    "##### Type conversion"
   ]
  },
  {
   "cell_type": "code",
   "execution_count": 3,
   "id": "b849e12f",
   "metadata": {},
   "outputs": [
    {
     "name": "stdout",
     "output_type": "stream",
     "text": [
      "7.0\n",
      "8\n",
      "(7+0j)\n",
      "(8.95+0j)\n",
      "<class 'float'>\n",
      "<class 'int'>\n",
      "<class 'complex'>\n",
      "<class 'complex'>\n"
     ]
    }
   ],
   "source": [
    "x = 7 #int\n",
    "y = 8.95 #float\n",
    "z = 1+2j \n",
    "a = float(x)\n",
    "b = int(y)\n",
    "c = complex(x)\n",
    "d = complex(y)\n",
    "print(a)\n",
    "print(b)\n",
    "print(c)\n",
    "print(d)\n",
    "print(type(a))\n",
    "print(type(b))\n",
    "print(type(c))\n",
    "print(type(d))\n"
   ]
  },
  {
   "cell_type": "code",
   "execution_count": null,
   "id": "08efa273",
   "metadata": {},
   "outputs": [],
   "source": [
    "\n"
   ]
  },
  {
   "cell_type": "code",
   "execution_count": null,
   "id": "c541855b",
   "metadata": {},
   "outputs": [],
   "source": []
  }
 ],
 "metadata": {
  "kernelspec": {
   "display_name": "Python 3 (ipykernel)",
   "language": "python",
   "name": "python3"
  },
  "language_info": {
   "codemirror_mode": {
    "name": "ipython",
    "version": 3
   },
   "file_extension": ".py",
   "mimetype": "text/x-python",
   "name": "python",
   "nbconvert_exporter": "python",
   "pygments_lexer": "ipython3",
   "version": "3.10.9"
  }
 },
 "nbformat": 4,
 "nbformat_minor": 5
}
